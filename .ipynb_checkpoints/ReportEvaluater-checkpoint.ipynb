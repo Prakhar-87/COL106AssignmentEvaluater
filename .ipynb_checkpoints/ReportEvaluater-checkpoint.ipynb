{
 "cells": [
  {
   "cell_type": "markdown",
   "metadata": {},
   "source": [
    "# Documentation ( More details coming soon)\n",
    "\n",
    "How to use\n",
    "\n",
    "* Add all .ser files in outputs folder. Note large .ser files takes a lot of time to load\n",
    "* Run the corresponding cells.\n",
    "* I have created few utitlities to show different variables stored in .ser files\n",
    "* New to jupyter? See https://www.dataquest.io/blog/jupyter-notebook-tutorial/ ."
   ]
  },
  {
   "cell_type": "code",
   "execution_count": null,
   "metadata": {},
   "outputs": [],
   "source": [
    "# Necessary import statements\n",
    "!pip install javaobj-py3\n",
    "import javaobj\n",
    "import os"
   ]
  },
  {
   "cell_type": "markdown",
   "metadata": {},
   "source": [
    "### Constants"
   ]
  },
  {
   "cell_type": "code",
   "execution_count": 2,
   "metadata": {},
   "outputs": [],
   "source": [
    "root_path = '.'\n",
    "output_folder = 'outputs'"
   ]
  },
  {
   "cell_type": "markdown",
   "metadata": {},
   "source": [
    "### Helper Functions"
   ]
  },
  {
   "cell_type": "code",
   "execution_count": 3,
   "metadata": {},
   "outputs": [],
   "source": [
    "def load_ser(path):\n",
    "    with open(path, \"rb\") as fd:\n",
    "        jobj = fd.read()\n",
    "    return javaobj.loads(jobj)\n",
    "\n",
    "# Left 1 ser file to compare? Simply call this function with correct file name to avoid \n",
    "def add_to_list(file_name,objects):\n",
    "    file_names.append(file_name)\n",
    "    print(f'Loading {item}')\n",
    "    objects.append(load_ser(f'{root_path}/{output_folder}/{item}'))\n",
    "    \n",
    "def command_are_equal(a,b):\n",
    "    return a.type==b.type and a.val == b.val and a.output == b.output and a.corr==b.corr and a.corr_addr == b.corr_addr and a.allocSize==b.allocSize and a.freeSize==b.freeSize\n",
    "\n",
    "\n",
    "def compareTwo(obj1,obj2):\n",
    "    if(len(obj1.testCases)!=len(obj2.testCases)):\n",
    "        return False\n",
    "    t = len(obj1.testCases)\n",
    "    for i in range(t):\n",
    "        comm1 = obj1.testCases[i].commands\n",
    "        comm2 = obj2.testCases[i].commands\n",
    "        if(len(comm1)!=len(comm2)):\n",
    "            print(i)\n",
    "            print(len(comm1))\n",
    "            print(len(comm2))\n",
    "            return False\n",
    "        n_comm = len(comm1)\n",
    "        \n",
    "        for j in range(n_comm):\n",
    "            if(not command_are_equal(comm1[j],comm2[j])):\n",
    "                print(i,j,comm1[j].type,comm2[j].type,comm1[j].output,comm2[j].output)\n",
    "                return i,j,comm1[j],comm2[j]\n",
    "    return True\n",
    "\n",
    "def is_in_comm_ops(arr,i):\n",
    "    for item in arr:\n",
    "        if(i in item):\n",
    "            return True\n",
    "    return False"
   ]
  },
  {
   "cell_type": "markdown",
   "metadata": {},
   "source": [
    "## Load all .ser files in output folder"
   ]
  },
  {
   "cell_type": "code",
   "execution_count": 4,
   "metadata": {},
   "outputs": [
    {
     "name": "stdout",
     "output_type": "stream",
     "text": [
      "Loading pranjal_output_small_120411.ser\n"
     ]
    }
   ],
   "source": [
    "file_names = []\n",
    "objects = []\n",
    "for item in os.listdir(f'{root_path}/{output_folder}'):\n",
    "    file_names.append(item)\n",
    "    print(f'Loading {item}')\n",
    "    objects.append(load_ser(f'{root_path}/{output_folder}/{item}'))"
   ]
  },
  {
   "cell_type": "markdown",
   "metadata": {},
   "source": [
    "# Compare all outputs"
   ]
  },
  {
   "cell_type": "code",
   "execution_count": 24,
   "metadata": {},
   "outputs": [],
   "source": [
    "comm_ops = [[]]\n",
    "row_num  = -1\n",
    "for k in range(len(objects)):\n",
    "    if(is_in_comm_ops(comm_ops,k)):\n",
    "        continue\n",
    "    row_num = row_num+1\n",
    "    if(row_num>0):\n",
    "        comm_ops.append([])\n",
    "    comm_ops[row_num] = [k]\n",
    "    for i in range(k+1,len(objects),1):\n",
    "        print(k,i)\n",
    "        outp = compareTwo(objects[k],objects[i])\n",
    "        if(outp == True):\n",
    "            comm_ops[row_num].append(i)\n",
    "            "
   ]
  },
  {
   "cell_type": "markdown",
   "metadata": {},
   "source": [
    "# PRINT SAME OUTPUTS"
   ]
  },
  {
   "cell_type": "code",
   "execution_count": 25,
   "metadata": {},
   "outputs": [
    {
     "name": "stdout",
     "output_type": "stream",
     "text": [
      "Same Outp 1: ['pranjal_small_120411']\n"
     ]
    }
   ],
   "source": [
    "for i,item in enumerate(comm_ops):\n",
    "    print(f'Same Outp {i+1}: {[file_names[x].replace(\".ser\",\"\").replace(\"_output\",\"\") for x in item]}')"
   ]
  },
  {
   "cell_type": "markdown",
   "metadata": {},
   "source": [
    "## Sanity Check"
   ]
  },
  {
   "cell_type": "code",
   "execution_count": 26,
   "metadata": {},
   "outputs": [],
   "source": [
    "for i,item in enumerate(objects):\n",
    "    item = objects[i]\n",
    "    tests = item.testCases\n",
    "    for j,t in enumerate(tests):\n",
    "        commands = t.commands\n",
    "        for k,comm in enumerate(commands):\n",
    "            if(comm.type=='Sanity'):\n",
    "                if(comm.output!=0):\n",
    "                    print(f'Sanity Error in {file_names[i]}:- Test Case {i} Command Num {k}. Value:- {comm.output}')"
   ]
  },
  {
   "cell_type": "markdown",
   "metadata": {},
   "source": [
    "## Time taken by your program"
   ]
  },
  {
   "cell_type": "code",
   "execution_count": 12,
   "metadata": {},
   "outputs": [
    {
     "name": "stdout",
     "output_type": "stream",
     "text": [
      "157295300.0\n",
      "53208100.0\n",
      "68977700.0\n",
      "26933900.0\n",
      "8175600.0\n"
     ]
    }
   ],
   "source": [
    "print(objects[0].time_taken[0].value)  # Total Time taken in complete Execution\n",
    "print(objects[0].time_taken[1].value)  # Total Time taken in Defragment\n",
    "print(objects[0].time_taken[2].value)  # Total Time taken in Sanity\n",
    "print(objects[0].time_taken[3].value)  # Total Time taken in Aloc\n",
    "print(objects[0].time_taken[4].value)  # Total Time taken in Free"
   ]
  },
  {
   "cell_type": "markdown",
   "metadata": {},
   "source": [
    "## Compare 2 ser files and see the first point of difference"
   ]
  },
  {
   "cell_type": "code",
   "execution_count": 11,
   "metadata": {},
   "outputs": [],
   "source": [
    "# Compare where you went wrong\n",
    "\n",
    "diff = compareTwo(objects[0],objects[1])\n",
    "# Ouput Format:- 1. Test Case 2. Command number 3. Command Type of first object \n",
    "# 4. Cmd Type of 2nd obj. 5. Output of 1st obj. 6. Output of 2nd obj\n",
    "# prints nothing if output are same"
   ]
  },
  {
   "cell_type": "markdown",
   "metadata": {},
   "source": [
    "### Object Structure\n",
    "\n",
    "1. `object[i]` :- The object corresponding to ith files\n",
    "2. `time_taken`,`total_ops` :- Time taken and total operations done in each of 4 types of operations and total time\n",
    "3. `testCases` :- list of Objects of class TestCases\n",
    "4. `num_test`:- Number of test cases in given .ser file\n",
    "\n",
    "#### Structure of TestCases Class\n",
    "Contains details of test cases in an single .ser file\n",
    "\n",
    "1. `size`:- size of test case\n",
    "2. `commands`:- list of objects of class Command\n",
    "3. `n_commands`:- Number of commands in this single test case\n",
    "\n",
    "#### Structure of Command Class\n",
    "Contains info of each command executed in a test case\n",
    "\n",
    "1. `type`:- type of operation done\n",
    "2. `val`:- Input value in test case\n",
    "3. `output`:- Output given by your program (Note:- A custom output is generated for sanity function where 0 denotes sanity returned true for both blks)\n",
    "4. `allocSize` & `freeSize`:- Indicates allocBlk,freeBlk size after execution of this command.\n",
    "5. `corr` & `corr_addr` :- Useful in free operation. `corr_addr` indicates what address was passed in Free function"
   ]
  },
  {
   "cell_type": "markdown",
   "metadata": {},
   "source": [
    "Enjoy :)"
   ]
  }
 ],
 "metadata": {
  "kernelspec": {
   "display_name": "Python 3",
   "language": "python",
   "name": "python3"
  },
  "language_info": {
   "codemirror_mode": {
    "name": "ipython",
    "version": 3
   },
   "file_extension": ".py",
   "mimetype": "text/x-python",
   "name": "python",
   "nbconvert_exporter": "python",
   "pygments_lexer": "ipython3",
   "version": "3.8.3"
  }
 },
 "nbformat": 4,
 "nbformat_minor": 4
}
